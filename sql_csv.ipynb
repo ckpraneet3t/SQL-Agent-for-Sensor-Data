{
 "cells": [
  {
   "cell_type": "code",
   "execution_count": 1,
   "id": "29f6cd99",
   "metadata": {},
   "outputs": [],
   "source": [
    "import os\n",
    "from dotenv import load_dotenv\n",
    "from sqlalchemy import create_engine, Column, Integer, String, Float, DateTime\n",
    "from sqlalchemy.orm import sessionmaker, declarative_base\n",
    "\n",
    "# No need for RunnableConfig or relationship in this schema file\n",
    "# from langchain_core.runnables.config import RunnableConfig\n",
    "# from sqlalchemy.orm import relationship\n",
    "\n",
    "load_dotenv()\n",
    "\n",
    "# --- IMPORTANT: Updated to point to your new database ---\n",
    "DATABASE_URL = os.getenv(\"DATABASE_URL\", \"sqlite:///netcdf_database.db\")\n",
    "engine = create_engine(DATABASE_URL)\n",
    "SessionLocal = sessionmaker(autocommit=False, autoflush=False, bind=engine)\n",
    "Base = declarative_base()\n",
    "\n",
    "\n",
    "# Definition of the Ocean Data table\n",
    "# This class maps directly to the 'ocean_data' table created from your NetCDF file.\n",
    "class OceanData(Base):\n",
    "    __tablename__ = \"ocean_data\"\n",
    "\n",
    "    # It's good practice to have a primary key, even if not in the original file\n",
    "    id = Column(Integer, primary_key=True, index=True)\n",
    "    \n",
    "    # Coordinates from the NetCDF file\n",
    "    time = Column(DateTime)\n",
    "    latitude = Column(Float)\n",
    "    longitude = Column(Float)\n",
    "    depth = Column(Float)\n",
    "    \n",
    "    # Variables from the NetCDF file\n",
    "    so = Column(Float)       # Sea Water Salinity\n",
    "    thetao = Column(Float)   # Sea Water Potential Temperature\n",
    "    uo = Column(Float)       # Eastward Sea Water Velocity\n",
    "    vo = Column(Float)       # Northward Sea Water Velocity\n",
    "    zos = Column(Float)      # Sea Surface Height Above Geoid\n",
    "\n",
    "# Example of how to create the table if needed (the setup_db.py already did this)\n",
    "# if __name__ == \"__main__\":\n",
    "#     print(\"Creating database tables...\")\n",
    "#     Base.metadata.create_all(bind=engine)\n",
    "#     print(\"Tables created.\")"
   ]
  }
 ],
 "metadata": {
  "kernelspec": {
   "display_name": "sqlagent",
   "language": "python",
   "name": "python3"
  },
  "language_info": {
   "codemirror_mode": {
    "name": "ipython",
    "version": 3
   },
   "file_extension": ".py",
   "mimetype": "text/x-python",
   "name": "python",
   "nbconvert_exporter": "python",
   "pygments_lexer": "ipython3",
   "version": "3.9.23"
  }
 },
 "nbformat": 4,
 "nbformat_minor": 5
}
